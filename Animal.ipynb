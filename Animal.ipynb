{
 "cells": [
  {
   "cell_type": "code",
   "execution_count": 1,
   "metadata": {},
   "outputs": [],
   "source": [
    "from keras.applications.vgg16 import VGG16\n",
    "from keras.preprocessing.image import load_img\n",
    "from keras.preprocessing.image import img_to_array\n",
    "from keras.applications.vgg16 import preprocess_input\n",
    "# load the model\n",
    "model = VGG16()\n",
    "import pymysql\n",
    "import datetime\n",
    "import shutil"
   ]
  },
  {
   "cell_type": "code",
   "execution_count": 2,
   "metadata": {},
   "outputs": [],
   "source": [
    "# load an image from file\n",
    "\n",
    "def processimage(name):\n",
    "    image = load_img(name, target_size=(224, 224))\n",
    "    # convert the image pixels to a numpy array\n",
    "    image = img_to_array(image)\n",
    "    image = image.reshape((1, image.shape[0], image.shape[1], image.shape[2]))\n",
    "    # prepare the image for the VGG model\n",
    "    image = preprocess_input(image)\n",
    "    yhat = model.predict(image)\n",
    "    from keras.applications.vgg16 import decode_predictions\n",
    "    # convert the probabilities to class labels\n",
    "    label = decode_predictions(yhat)\n",
    "    itm=label[0]\n",
    "    return itm[0][1]\n"
   ]
  },
  {
   "cell_type": "code",
   "execution_count": 3,
   "metadata": {},
   "outputs": [],
   "source": [
    "import io\n",
    "import os\n",
    "import cv2 \n",
    "import pyttsx3\n",
    "engine = pyttsx3.init()"
   ]
  },
  {
   "cell_type": "code",
   "execution_count": 4,
   "metadata": {},
   "outputs": [
    {
     "name": "stdout",
     "output_type": "stream",
     "text": [
      "kite\n",
      "Italian_greyhound\n",
      "hand_blower\n",
      "barbershop\n",
      "bassoon\n",
      "hand_blower\n"
     ]
    }
   ],
   "source": [
    "\n",
    "\n",
    "\n",
    "# cam = cv2.VideoCapture(\"animal1.mp4\")\n",
    "cam = cv2.VideoCapture(0)\n",
    "animals=['abc','pqr']\n",
    "currentframe =0\n",
    "imid=0\n",
    "while(True): \n",
    "    ret,frame = cam.read() \n",
    "    if ret: \n",
    "        #flp=cv2.flip(frame, flipCode=-1)\n",
    "        cv2.imshow('img_rgb', frame)\n",
    "    currentframe += 1  \n",
    "    imid+=1\n",
    "    #print(currentframe)\n",
    "    if currentframe>350:\n",
    "        name='images\\\\'+str(imid) + '.jpg'\n",
    "\n",
    "        cv2.imwrite(name, frame) \n",
    "        anm=processimage(name)\n",
    "        print(anm)\n",
    "        engine.say(anm)\n",
    "        engine.runAndWait()\n",
    "        \n",
    "                \n",
    "        db = pymysql.connect(host='localhost',user='root',password='',database='wild_animal')\n",
    "        c = db.cursor()  \n",
    "        da = str(datetime.date.today())   \n",
    "        ti = str(datetime.datetime.now().time()) \n",
    "        sql=\"INSERT INTO `alert`(`nm`, `date`, `uid`) VALUES ('\"+str(anm)+\"','\"+da+\"','8')\"\n",
    "\n",
    "        c.execute(sql)\n",
    "        db.commit()\n",
    "        c.close()\n",
    "        db.close()\n",
    "        \n",
    "#         if anm in animals:\n",
    "#             cv2.imshow(anm, frame)\n",
    "        currentframe=0\n",
    "#         name='images\\\\'+anm + '.jpg'\n",
    "#         cv2.imwrite(name, frame) \n",
    "        \n",
    "        \n",
    "    if cv2.waitKey(1) & 0xFF == ord('q'):\n",
    "        break\n",
    "\n",
    "cam.release() \n",
    "cv2.destroyAllWindows() \n",
    "        \n"
   ]
  },
  {
   "cell_type": "code",
   "execution_count": null,
   "metadata": {},
   "outputs": [],
   "source": []
  }
 ],
 "metadata": {
  "kernelspec": {
   "display_name": "Python 3",
   "language": "python",
   "name": "python3"
  },
  "language_info": {
   "codemirror_mode": {
    "name": "ipython",
    "version": 3
   },
   "file_extension": ".py",
   "mimetype": "text/x-python",
   "name": "python",
   "nbconvert_exporter": "python",
   "pygments_lexer": "ipython3",
   "version": "3.8.10"
  }
 },
 "nbformat": 4,
 "nbformat_minor": 2
}
